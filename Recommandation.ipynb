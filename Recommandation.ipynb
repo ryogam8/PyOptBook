{
 "cells": [
  {
   "cell_type": "code",
   "execution_count": 65,
   "metadata": {},
   "outputs": [],
   "source": [
    "import pandas as pd\n",
    "import datetime\n",
    "import numpy as np"
   ]
  },
  {
   "cell_type": "code",
   "execution_count": 66,
   "metadata": {},
   "outputs": [
    {
     "data": {
      "text/html": [
       "<div>\n",
       "<style scoped>\n",
       "    .dataframe tbody tr th:only-of-type {\n",
       "        vertical-align: middle;\n",
       "    }\n",
       "\n",
       "    .dataframe tbody tr th {\n",
       "        vertical-align: top;\n",
       "    }\n",
       "\n",
       "    .dataframe thead th {\n",
       "        text-align: right;\n",
       "    }\n",
       "</style>\n",
       "<table border=\"1\" class=\"dataframe\">\n",
       "  <thead>\n",
       "    <tr style=\"text-align: right;\">\n",
       "      <th></th>\n",
       "      <th>user_id</th>\n",
       "      <th>item_id</th>\n",
       "      <th>date</th>\n",
       "    </tr>\n",
       "  </thead>\n",
       "  <tbody>\n",
       "    <tr>\n",
       "      <th>0</th>\n",
       "      <td>4</td>\n",
       "      <td>205587</td>\n",
       "      <td>2015-07-04</td>\n",
       "    </tr>\n",
       "    <tr>\n",
       "      <th>1</th>\n",
       "      <td>4</td>\n",
       "      <td>748683</td>\n",
       "      <td>2015-07-04</td>\n",
       "    </tr>\n",
       "    <tr>\n",
       "      <th>2</th>\n",
       "      <td>4</td>\n",
       "      <td>790055</td>\n",
       "      <td>2015-07-04</td>\n",
       "    </tr>\n",
       "    <tr>\n",
       "      <th>3</th>\n",
       "      <td>4</td>\n",
       "      <td>790055</td>\n",
       "      <td>2015-07-04</td>\n",
       "    </tr>\n",
       "    <tr>\n",
       "      <th>4</th>\n",
       "      <td>4</td>\n",
       "      <td>764638</td>\n",
       "      <td>2015-07-04</td>\n",
       "    </tr>\n",
       "  </tbody>\n",
       "</table>\n",
       "</div>"
      ],
      "text/plain": [
       "   user_id  item_id       date\n",
       "0        4   205587 2015-07-04\n",
       "1        4   748683 2015-07-04\n",
       "2        4   790055 2015-07-04\n",
       "3        4   790055 2015-07-04\n",
       "4        4   764638 2015-07-04"
      ]
     },
     "execution_count": 66,
     "metadata": {},
     "output_type": "execute_result"
    }
   ],
   "source": [
    "log_df = pd.read_csv(\"./7.recommendation/access_log.csv\", parse_dates=['date'])\n",
    "log_df.head()"
   ]
  },
  {
   "cell_type": "code",
   "execution_count": 67,
   "metadata": {},
   "outputs": [
    {
     "data": {
      "text/plain": [
       "count    31443.000000\n",
       "mean        10.365042\n",
       "std         16.023399\n",
       "min          2.000000\n",
       "25%          3.000000\n",
       "50%          5.000000\n",
       "75%         11.000000\n",
       "max        632.000000\n",
       "Name: count, dtype: float64"
      ]
     },
     "execution_count": 67,
     "metadata": {},
     "output_type": "execute_result"
    }
   ],
   "source": [
    "log_df['user_id'].value_counts().describe()"
   ]
  },
  {
   "cell_type": "code",
   "execution_count": 68,
   "metadata": {},
   "outputs": [
    {
     "data": {
      "text/plain": [
       "count    87611.000000\n",
       "mean         3.719944\n",
       "std          8.802572\n",
       "min          1.000000\n",
       "25%          1.000000\n",
       "50%          2.000000\n",
       "75%          3.000000\n",
       "max        941.000000\n",
       "Name: count, dtype: float64"
      ]
     },
     "execution_count": 68,
     "metadata": {},
     "output_type": "execute_result"
    }
   ],
   "source": [
    "log_df['item_id'].value_counts().describe()"
   ]
  },
  {
   "cell_type": "code",
   "execution_count": 69,
   "metadata": {},
   "outputs": [
    {
     "data": {
      "text/plain": [
       "count        8.000000\n",
       "mean     40738.500000\n",
       "std       4895.105106\n",
       "min      33311.000000\n",
       "25%      38431.500000\n",
       "50%      41868.500000\n",
       "75%      44470.750000\n",
       "max      45441.000000\n",
       "Name: count, dtype: float64"
      ]
     },
     "execution_count": 69,
     "metadata": {},
     "output_type": "execute_result"
    }
   ],
   "source": [
    "log_df['date'].value_counts().describe()"
   ]
  },
  {
   "cell_type": "code",
   "execution_count": 70,
   "metadata": {},
   "outputs": [
    {
     "data": {
      "text/html": [
       "<div>\n",
       "<style scoped>\n",
       "    .dataframe tbody tr th:only-of-type {\n",
       "        vertical-align: middle;\n",
       "    }\n",
       "\n",
       "    .dataframe tbody tr th {\n",
       "        vertical-align: top;\n",
       "    }\n",
       "\n",
       "    .dataframe thead th {\n",
       "        text-align: right;\n",
       "    }\n",
       "</style>\n",
       "<table border=\"1\" class=\"dataframe\">\n",
       "  <thead>\n",
       "    <tr style=\"text-align: right;\">\n",
       "      <th></th>\n",
       "      <th>user_id</th>\n",
       "      <th>item_id</th>\n",
       "      <th>date</th>\n",
       "    </tr>\n",
       "  </thead>\n",
       "  <tbody>\n",
       "    <tr>\n",
       "      <th>0</th>\n",
       "      <td>4</td>\n",
       "      <td>205587</td>\n",
       "      <td>2015-07-04</td>\n",
       "    </tr>\n",
       "    <tr>\n",
       "      <th>1</th>\n",
       "      <td>4</td>\n",
       "      <td>748683</td>\n",
       "      <td>2015-07-04</td>\n",
       "    </tr>\n",
       "    <tr>\n",
       "      <th>2</th>\n",
       "      <td>4</td>\n",
       "      <td>790055</td>\n",
       "      <td>2015-07-04</td>\n",
       "    </tr>\n",
       "    <tr>\n",
       "      <th>3</th>\n",
       "      <td>4</td>\n",
       "      <td>790055</td>\n",
       "      <td>2015-07-04</td>\n",
       "    </tr>\n",
       "    <tr>\n",
       "      <th>4</th>\n",
       "      <td>4</td>\n",
       "      <td>764638</td>\n",
       "      <td>2015-07-04</td>\n",
       "    </tr>\n",
       "    <tr>\n",
       "      <th>...</th>\n",
       "      <td>...</td>\n",
       "      <td>...</td>\n",
       "      <td>...</td>\n",
       "    </tr>\n",
       "    <tr>\n",
       "      <th>325903</th>\n",
       "      <td>424168</td>\n",
       "      <td>454500</td>\n",
       "      <td>2015-07-01</td>\n",
       "    </tr>\n",
       "    <tr>\n",
       "      <th>325904</th>\n",
       "      <td>424168</td>\n",
       "      <td>189002</td>\n",
       "      <td>2015-07-01</td>\n",
       "    </tr>\n",
       "    <tr>\n",
       "      <th>325905</th>\n",
       "      <td>424168</td>\n",
       "      <td>1020948</td>\n",
       "      <td>2015-07-01</td>\n",
       "    </tr>\n",
       "    <tr>\n",
       "      <th>325906</th>\n",
       "      <td>424168</td>\n",
       "      <td>96441</td>\n",
       "      <td>2015-07-04</td>\n",
       "    </tr>\n",
       "    <tr>\n",
       "      <th>325907</th>\n",
       "      <td>424168</td>\n",
       "      <td>96441</td>\n",
       "      <td>2015-07-04</td>\n",
       "    </tr>\n",
       "  </tbody>\n",
       "</table>\n",
       "<p>325908 rows × 3 columns</p>\n",
       "</div>"
      ],
      "text/plain": [
       "        user_id  item_id       date\n",
       "0             4   205587 2015-07-04\n",
       "1             4   748683 2015-07-04\n",
       "2             4   790055 2015-07-04\n",
       "3             4   790055 2015-07-04\n",
       "4             4   764638 2015-07-04\n",
       "...         ...      ...        ...\n",
       "325903   424168   454500 2015-07-01\n",
       "325904   424168   189002 2015-07-01\n",
       "325905   424168  1020948 2015-07-01\n",
       "325906   424168    96441 2015-07-04\n",
       "325907   424168    96441 2015-07-04\n",
       "\n",
       "[325908 rows x 3 columns]"
      ]
     },
     "execution_count": 70,
     "metadata": {},
     "output_type": "execute_result"
    }
   ],
   "source": [
    "log_df"
   ]
  },
  {
   "cell_type": "code",
   "execution_count": 71,
   "metadata": {},
   "outputs": [],
   "source": [
    "start_date = datetime.datetime(2015, 7, 1)\n",
    "end_date = datetime.datetime(2015, 7, 7)\n",
    "target_date = datetime.datetime(2015, 7, 8)"
   ]
  },
  {
   "cell_type": "code",
   "execution_count": 72,
   "metadata": {},
   "outputs": [],
   "source": [
    "x_df = log_df[log_df[\"date\"].between(start_date, end_date)]\n",
    "y_df = log_df[log_df[\"date\"] == target_date]"
   ]
  },
  {
   "cell_type": "code",
   "execution_count": 73,
   "metadata": {},
   "outputs": [
    {
     "name": "stderr",
     "output_type": "stream",
     "text": [
      "C:\\Users\\ryoga.misu\\AppData\\Local\\Temp\\ipykernel_19124\\3884218940.py:1: SettingWithCopyWarning: \n",
      "A value is trying to be set on a copy of a slice from a DataFrame.\n",
      "Try using .loc[row_indexer,col_indexer] = value instead\n",
      "\n",
      "See the caveats in the documentation: https://pandas.pydata.org/pandas-docs/stable/user_guide/indexing.html#returning-a-view-versus-a-copy\n",
      "  x_df[\"diff_days\"] = (target_date - x_df[\"date\"]).dt.days\n"
     ]
    }
   ],
   "source": [
    "x_df[\"diff_days\"] = (target_date - x_df[\"date\"]).dt.days\n",
    "UI2RF_df = x_df.groupby([\"user_id\", \"item_id\"]).agg(rcen=(\"diff_days\", \"min\"), freq=(\"date\", \"count\")).reset_index()"
   ]
  },
  {
   "cell_type": "code",
   "execution_count": 74,
   "metadata": {},
   "outputs": [
    {
     "data": {
      "text/html": [
       "<div>\n",
       "<style scoped>\n",
       "    .dataframe tbody tr th:only-of-type {\n",
       "        vertical-align: middle;\n",
       "    }\n",
       "\n",
       "    .dataframe tbody tr th {\n",
       "        vertical-align: top;\n",
       "    }\n",
       "\n",
       "    .dataframe thead th {\n",
       "        text-align: right;\n",
       "    }\n",
       "</style>\n",
       "<table border=\"1\" class=\"dataframe\">\n",
       "  <thead>\n",
       "    <tr style=\"text-align: right;\">\n",
       "      <th></th>\n",
       "      <th>user_id</th>\n",
       "      <th>item_id</th>\n",
       "      <th>rcen</th>\n",
       "      <th>freq</th>\n",
       "    </tr>\n",
       "  </thead>\n",
       "  <tbody>\n",
       "    <tr>\n",
       "      <th>0</th>\n",
       "      <td>4</td>\n",
       "      <td>95474</td>\n",
       "      <td>4</td>\n",
       "      <td>1</td>\n",
       "    </tr>\n",
       "    <tr>\n",
       "      <th>1</th>\n",
       "      <td>4</td>\n",
       "      <td>205587</td>\n",
       "      <td>4</td>\n",
       "      <td>1</td>\n",
       "    </tr>\n",
       "    <tr>\n",
       "      <th>2</th>\n",
       "      <td>4</td>\n",
       "      <td>492434</td>\n",
       "      <td>4</td>\n",
       "      <td>1</td>\n",
       "    </tr>\n",
       "    <tr>\n",
       "      <th>3</th>\n",
       "      <td>4</td>\n",
       "      <td>748683</td>\n",
       "      <td>4</td>\n",
       "      <td>1</td>\n",
       "    </tr>\n",
       "    <tr>\n",
       "      <th>4</th>\n",
       "      <td>4</td>\n",
       "      <td>764638</td>\n",
       "      <td>4</td>\n",
       "      <td>2</td>\n",
       "    </tr>\n",
       "    <tr>\n",
       "      <th>...</th>\n",
       "      <td>...</td>\n",
       "      <td>...</td>\n",
       "      <td>...</td>\n",
       "      <td>...</td>\n",
       "    </tr>\n",
       "    <tr>\n",
       "      <th>204656</th>\n",
       "      <td>424168</td>\n",
       "      <td>189002</td>\n",
       "      <td>7</td>\n",
       "      <td>1</td>\n",
       "    </tr>\n",
       "    <tr>\n",
       "      <th>204657</th>\n",
       "      <td>424168</td>\n",
       "      <td>268153</td>\n",
       "      <td>7</td>\n",
       "      <td>1</td>\n",
       "    </tr>\n",
       "    <tr>\n",
       "      <th>204658</th>\n",
       "      <td>424168</td>\n",
       "      <td>334989</td>\n",
       "      <td>7</td>\n",
       "      <td>1</td>\n",
       "    </tr>\n",
       "    <tr>\n",
       "      <th>204659</th>\n",
       "      <td>424168</td>\n",
       "      <td>454500</td>\n",
       "      <td>7</td>\n",
       "      <td>1</td>\n",
       "    </tr>\n",
       "    <tr>\n",
       "      <th>204660</th>\n",
       "      <td>424168</td>\n",
       "      <td>1020948</td>\n",
       "      <td>7</td>\n",
       "      <td>1</td>\n",
       "    </tr>\n",
       "  </tbody>\n",
       "</table>\n",
       "<p>204661 rows × 4 columns</p>\n",
       "</div>"
      ],
      "text/plain": [
       "        user_id  item_id  rcen  freq\n",
       "0             4    95474     4     1\n",
       "1             4   205587     4     1\n",
       "2             4   492434     4     1\n",
       "3             4   748683     4     1\n",
       "4             4   764638     4     2\n",
       "...         ...      ...   ...   ...\n",
       "204656   424168   189002     7     1\n",
       "204657   424168   268153     7     1\n",
       "204658   424168   334989     7     1\n",
       "204659   424168   454500     7     1\n",
       "204660   424168  1020948     7     1\n",
       "\n",
       "[204661 rows x 4 columns]"
      ]
     },
     "execution_count": 74,
     "metadata": {},
     "output_type": "execute_result"
    }
   ],
   "source": [
    "UI2RF_df"
   ]
  },
  {
   "cell_type": "code",
   "execution_count": 75,
   "metadata": {},
   "outputs": [
    {
     "data": {
      "text/html": [
       "<div>\n",
       "<style scoped>\n",
       "    .dataframe tbody tr th:only-of-type {\n",
       "        vertical-align: middle;\n",
       "    }\n",
       "\n",
       "    .dataframe tbody tr th {\n",
       "        vertical-align: top;\n",
       "    }\n",
       "\n",
       "    .dataframe thead th {\n",
       "        text-align: right;\n",
       "    }\n",
       "</style>\n",
       "<table border=\"1\" class=\"dataframe\">\n",
       "  <thead>\n",
       "    <tr style=\"text-align: right;\">\n",
       "      <th></th>\n",
       "      <th>user_id</th>\n",
       "      <th>item_id</th>\n",
       "      <th>date</th>\n",
       "      <th>pv_flag</th>\n",
       "    </tr>\n",
       "  </thead>\n",
       "  <tbody>\n",
       "    <tr>\n",
       "      <th>103</th>\n",
       "      <td>94</td>\n",
       "      <td>603852</td>\n",
       "      <td>2015-07-08</td>\n",
       "      <td>1</td>\n",
       "    </tr>\n",
       "    <tr>\n",
       "      <th>104</th>\n",
       "      <td>94</td>\n",
       "      <td>28600</td>\n",
       "      <td>2015-07-08</td>\n",
       "      <td>1</td>\n",
       "    </tr>\n",
       "    <tr>\n",
       "      <th>105</th>\n",
       "      <td>94</td>\n",
       "      <td>987320</td>\n",
       "      <td>2015-07-08</td>\n",
       "      <td>1</td>\n",
       "    </tr>\n",
       "    <tr>\n",
       "      <th>106</th>\n",
       "      <td>94</td>\n",
       "      <td>109924</td>\n",
       "      <td>2015-07-08</td>\n",
       "      <td>1</td>\n",
       "    </tr>\n",
       "    <tr>\n",
       "      <th>107</th>\n",
       "      <td>94</td>\n",
       "      <td>886214</td>\n",
       "      <td>2015-07-08</td>\n",
       "      <td>1</td>\n",
       "    </tr>\n",
       "  </tbody>\n",
       "</table>\n",
       "</div>"
      ],
      "text/plain": [
       "     user_id  item_id       date  pv_flag\n",
       "103       94   603852 2015-07-08        1\n",
       "104       94    28600 2015-07-08        1\n",
       "105       94   987320 2015-07-08        1\n",
       "106       94   109924 2015-07-08        1\n",
       "107       94   886214 2015-07-08        1"
      ]
     },
     "execution_count": 75,
     "metadata": {},
     "output_type": "execute_result"
    }
   ],
   "source": [
    "y_df = y_df.drop_duplicates()\n",
    "y_df[\"pv_flag\"] = 1\n",
    "y_df.head()"
   ]
  },
  {
   "cell_type": "code",
   "execution_count": 76,
   "metadata": {},
   "outputs": [
    {
     "data": {
      "text/html": [
       "<div>\n",
       "<style scoped>\n",
       "    .dataframe tbody tr th:only-of-type {\n",
       "        vertical-align: middle;\n",
       "    }\n",
       "\n",
       "    .dataframe tbody tr th {\n",
       "        vertical-align: top;\n",
       "    }\n",
       "\n",
       "    .dataframe thead th {\n",
       "        text-align: right;\n",
       "    }\n",
       "</style>\n",
       "<table border=\"1\" class=\"dataframe\">\n",
       "  <thead>\n",
       "    <tr style=\"text-align: right;\">\n",
       "      <th></th>\n",
       "      <th>user_id</th>\n",
       "      <th>item_id</th>\n",
       "      <th>rcen</th>\n",
       "      <th>freq</th>\n",
       "      <th>pv_flag</th>\n",
       "    </tr>\n",
       "  </thead>\n",
       "  <tbody>\n",
       "    <tr>\n",
       "      <th>0</th>\n",
       "      <td>4</td>\n",
       "      <td>95474</td>\n",
       "      <td>4</td>\n",
       "      <td>1</td>\n",
       "      <td>0.0</td>\n",
       "    </tr>\n",
       "    <tr>\n",
       "      <th>1</th>\n",
       "      <td>4</td>\n",
       "      <td>205587</td>\n",
       "      <td>4</td>\n",
       "      <td>1</td>\n",
       "      <td>0.0</td>\n",
       "    </tr>\n",
       "    <tr>\n",
       "      <th>2</th>\n",
       "      <td>4</td>\n",
       "      <td>492434</td>\n",
       "      <td>4</td>\n",
       "      <td>1</td>\n",
       "      <td>0.0</td>\n",
       "    </tr>\n",
       "    <tr>\n",
       "      <th>3</th>\n",
       "      <td>4</td>\n",
       "      <td>748683</td>\n",
       "      <td>4</td>\n",
       "      <td>1</td>\n",
       "      <td>0.0</td>\n",
       "    </tr>\n",
       "    <tr>\n",
       "      <th>4</th>\n",
       "      <td>4</td>\n",
       "      <td>764638</td>\n",
       "      <td>4</td>\n",
       "      <td>2</td>\n",
       "      <td>0.0</td>\n",
       "    </tr>\n",
       "  </tbody>\n",
       "</table>\n",
       "</div>"
      ],
      "text/plain": [
       "   user_id  item_id  rcen  freq  pv_flag\n",
       "0        4    95474     4     1      0.0\n",
       "1        4   205587     4     1      0.0\n",
       "2        4   492434     4     1      0.0\n",
       "3        4   748683     4     1      0.0\n",
       "4        4   764638     4     2      0.0"
      ]
     },
     "execution_count": 76,
     "metadata": {},
     "output_type": "execute_result"
    }
   ],
   "source": [
    "UI2RFP = UI2RF_df.merge(y_df[[\"user_id\", \"item_id\", \"pv_flag\"]], how=\"left\")\n",
    "UI2RFP[\"pv_flag\"].fillna(0, inplace=True)\n",
    "UI2RFP.head()"
   ]
  },
  {
   "cell_type": "code",
   "execution_count": 77,
   "metadata": {},
   "outputs": [],
   "source": [
    "UI2RFP[\"freq\"] = UI2RFP[\"freq\"].clip(upper=7)\n",
    "tar_df = UI2RFP"
   ]
  },
  {
   "cell_type": "code",
   "execution_count": 78,
   "metadata": {},
   "outputs": [
    {
     "data": {
      "text/plain": [
       "2154.0"
      ]
     },
     "execution_count": 78,
     "metadata": {},
     "output_type": "execute_result"
    }
   ],
   "source": [
    "tar_df[\"pv_flag\"].sum()"
   ]
  },
  {
   "cell_type": "code",
   "execution_count": 79,
   "metadata": {},
   "outputs": [
    {
     "data": {
      "text/plain": [
       "<Axes: xlabel='rcen'>"
      ]
     },
     "execution_count": 79,
     "metadata": {},
     "output_type": "execute_result"
    },
    {
     "data": {
      "image/png": "[encoded data removed]",
      "text/plain": [
       "<Figure size 640x480 with 1 Axes>"
      ]
     },
     "metadata": {},
     "output_type": "display_data"
    }
   ],
   "source": [
    "rcen_df = pd.crosstab(index=tar_df[\"rcen\"], columns=tar_df[\"pv_flag\"]).rename(columns={0: \"neg\", 1: \"pos\"})\n",
    "rcen_df[\"N\"] = rcen_df[\"neg\"] + rcen_df[\"pos\"]\n",
    "rcen_df[\"prob\"] = rcen_df[\"pos\"] / rcen_df[\"N\"]\n",
    "rcen_df[\"prob\"].plot.bar()"
   ]
  },
  {
   "cell_type": "code",
   "execution_count": 80,
   "metadata": {},
   "outputs": [
    {
     "data": {
      "text/plain": [
       "<Axes: xlabel='freq'>"
      ]
     },
     "execution_count": 80,
     "metadata": {},
     "output_type": "execute_result"
    },
    {
     "data": {
      "image/png": "[encoded data removed]",
      "text/plain": [
       "<Figure size 640x480 with 1 Axes>"
      ]
     },
     "metadata": {},
     "output_type": "display_data"
    }
   ],
   "source": [
    "freq_df = pd.crosstab(index=tar_df[\"freq\"], columns=tar_df[\"pv_flag\"]).rename(columns={0: \"neg\", 1: \"pos\"})\n",
    "freq_df[\"N\"] = freq_df[\"neg\"] + freq_df[\"pos\"]\n",
    "freq_df[\"prob\"] = freq_df[\"pos\"] / freq_df[\"N\"]\n",
    "freq_df[\"prob\"].plot.bar()"
   ]
  },
  {
   "cell_type": "code",
   "execution_count": 81,
   "metadata": {},
   "outputs": [],
   "source": [
    "# 最新度(rcen)と頻度(freq)に対する総件数と再閲覧件数の算出\n",
    "RF2N = {}\n",
    "RF2PV = {}\n",
    "for row in tar_df.itertuples():\n",
    "    RF2N.setdefault((row.rcen, row.freq), 0)\n",
    "    RF2PV.setdefault((row.rcen, row.freq), 0)\n",
    "    RF2N[row.rcen, row.freq] += 1\n",
    "    if row.pv_flag == 1:\n",
    "        RF2PV[row.rcen, row.freq] += 1"
   ]
  },
  {
   "cell_type": "code",
   "execution_count": 82,
   "metadata": {},
   "outputs": [],
   "source": [
    "# 最新度(rcen)と頻度(freq)に対する再閲覧確率の算出\n",
    "RF2Prob = {}\n",
    "for rf, N in RF2N.items():\n",
    "    RF2Prob[rf] = RF2PV[rf] / N"
   ]
  },
  {
   "cell_type": "code",
   "execution_count": 83,
   "metadata": {},
   "outputs": [
    {
     "name": "stdout",
     "output_type": "stream",
     "text": [
      "49\n"
     ]
    },
    {
     "data": {
      "text/html": [
       "<div>\n",
       "<style scoped>\n",
       "    .dataframe tbody tr th:only-of-type {\n",
       "        vertical-align: middle;\n",
       "    }\n",
       "\n",
       "    .dataframe tbody tr th {\n",
       "        vertical-align: top;\n",
       "    }\n",
       "\n",
       "    .dataframe thead th {\n",
       "        text-align: right;\n",
       "    }\n",
       "</style>\n",
       "<table border=\"1\" class=\"dataframe\">\n",
       "  <thead>\n",
       "    <tr style=\"text-align: right;\">\n",
       "      <th></th>\n",
       "      <th>rcen</th>\n",
       "      <th>freq</th>\n",
       "      <th>N</th>\n",
       "      <th>pv</th>\n",
       "      <th>prob</th>\n",
       "    </tr>\n",
       "  </thead>\n",
       "  <tbody>\n",
       "    <tr>\n",
       "      <th>0</th>\n",
       "      <td>1</td>\n",
       "      <td>1</td>\n",
       "      <td>19602</td>\n",
       "      <td>245</td>\n",
       "      <td>0.012499</td>\n",
       "    </tr>\n",
       "    <tr>\n",
       "      <th>1</th>\n",
       "      <td>1</td>\n",
       "      <td>2</td>\n",
       "      <td>3323</td>\n",
       "      <td>132</td>\n",
       "      <td>0.039723</td>\n",
       "    </tr>\n",
       "    <tr>\n",
       "      <th>2</th>\n",
       "      <td>1</td>\n",
       "      <td>3</td>\n",
       "      <td>1120</td>\n",
       "      <td>81</td>\n",
       "      <td>0.072321</td>\n",
       "    </tr>\n",
       "    <tr>\n",
       "      <th>3</th>\n",
       "      <td>1</td>\n",
       "      <td>4</td>\n",
       "      <td>539</td>\n",
       "      <td>36</td>\n",
       "      <td>0.066790</td>\n",
       "    </tr>\n",
       "    <tr>\n",
       "      <th>4</th>\n",
       "      <td>1</td>\n",
       "      <td>5</td>\n",
       "      <td>285</td>\n",
       "      <td>36</td>\n",
       "      <td>0.126316</td>\n",
       "    </tr>\n",
       "  </tbody>\n",
       "</table>\n",
       "</div>"
      ],
      "text/plain": [
       "   rcen  freq      N   pv      prob\n",
       "0     1     1  19602  245  0.012499\n",
       "1     1     2   3323  132  0.039723\n",
       "2     1     3   1120   81  0.072321\n",
       "3     1     4    539   36  0.066790\n",
       "4     1     5    285   36  0.126316"
      ]
     },
     "execution_count": 83,
     "metadata": {},
     "output_type": "execute_result"
    }
   ],
   "source": [
    "# 最新度(rcen)と頻度(freq)に対して総件数、再閲覧件数、再閲覧確率を対応付けるデータの作成\n",
    "Rows3 = []\n",
    "for rf, N in sorted(RF2N.items()):\n",
    "    pv = RF2PV[rf]\n",
    "    prob = RF2Prob[rf]\n",
    "    row = (rf[0], rf[1], N, pv, prob)\n",
    "    Rows3.append(row)\n",
    "rf_df = pd.DataFrame(Rows3, columns = ['rcen', 'freq', 'N', 'pv', 'prob'])\n",
    "print(len(rf_df))\n",
    "rf_df.head()"
   ]
  },
  {
   "cell_type": "code",
   "execution_count": 85,
   "metadata": {},
   "outputs": [
    {
     "data": {
      "text/plain": [
       "<mpl_toolkits.mplot3d.art3d.Line3DCollection at 0x2255b044fd0>"
      ]
     },
     "execution_count": 85,
     "metadata": {},
     "output_type": "execute_result"
    },
    {
     "data": {
      "image/png": "[encoded data removed]",
      "text/plain": [
       "<Figure size 640x480 with 1 Axes>"
      ]
     },
     "metadata": {},
     "output_type": "display_data"
    }
   ],
   "source": [
    "import matplotlib.pylab as plt\n",
    "\n",
    "# 最新度(rcen)と頻度(freq)に対して再閲覧確率を対応付ける3Dグラフの作成\n",
    "Freq = rf_df['freq'].unique().tolist()\n",
    "Rcen = rf_df['rcen'].unique().tolist()\n",
    "Z = [rf_df[(rf_df['freq']==freq) & (rf_df['rcen']==rcen)]['prob'].iloc[0] for freq in Freq for rcen in Rcen]\n",
    "Z = np.array(Z).reshape((len(Freq), len(Rcen)))\n",
    "X, Y = np.meshgrid(Rcen, Freq)  \n",
    "fig = plt.figure()\n",
    "ax = fig.add_subplot(111\n",
    "                     , projection=\"3d\"\n",
    "                     , xlabel='rcen'\n",
    "                     , ylabel='freq'\n",
    "                     , zlabel='prob'\n",
    "                    )\n",
    "ax.plot_wireframe(X, Y, Z)"
   ]
  },
  {
   "cell_type": "code",
   "execution_count": 86,
   "metadata": {},
   "outputs": [],
   "source": [
    "# 最新度(rcen)と頻度(freq)に対する総件数と再閲覧件数の算出\n",
    "RF2N = {}\n",
    "RF2PV = {}\n",
    "for row in tar_df.itertuples():\n",
    "    RF2N.setdefault((row.rcen, row.freq), 0)\n",
    "    RF2PV.setdefault((row.rcen, row.freq), 0)\n",
    "    RF2N[row.rcen, row.freq] += 1\n",
    "    if row.pv_flag == 1:\n",
    "        RF2PV[row.rcen,row.freq] += 1"
   ]
  },
  {
   "cell_type": "code",
   "execution_count": 90,
   "metadata": {},
   "outputs": [],
   "source": [
    "# 最新度(rcen)と頻度(freq)に対する再閲覧確率の算出\n",
    "RF2Prob = {}\n",
    "for rf, N in RF2N.items():\n",
    "    RF2Prob[rf] = RF2PV[rf] / N"
   ]
  },
  {
   "cell_type": "code",
   "execution_count": 91,
   "metadata": {},
   "outputs": [
    {
     "name": "stdout",
     "output_type": "stream",
     "text": [
      "{(1, 1): 0, (1, 2): 1, (1, 3): 2, (1, 4): 3, (1, 5): 4, (1, 6): 5, (1, 7): 6, (2, 1): 7, (2, 2): 8, (2, 3): 9, (2, 4): 10, (2, 5): 11, (2, 6): 12, (2, 7): 13, (3, 1): 14, (3, 2): 15, (3, 3): 16, (3, 4): 17, (3, 5): 18, (3, 6): 19, (3, 7): 20, (4, 1): 21, (4, 2): 22, (4, 3): 23, (4, 4): 24, (4, 5): 25, (4, 6): 26, (4, 7): 27, (5, 1): 28, (5, 2): 29, (5, 3): 30, (5, 4): 31, (5, 5): 32, (5, 6): 33, (5, 7): 34, (6, 1): 35, (6, 2): 36, (6, 3): 37, (6, 4): 38, (6, 5): 39, (6, 6): 40, (6, 7): 41, (7, 1): 42, (7, 2): 43, (7, 3): 44, (7, 4): 45, (7, 5): 46, (7, 6): 47, (7, 7): 48}\n"
     ]
    }
   ],
   "source": [
    "R = sorted(tar_df[\"rcen\"].unique().tolist())\n",
    "F = sorted(tar_df[\"freq\"].unique().tolist())\n",
    "\n",
    "Idx = []\n",
    "idx = 0\n",
    "RF2Idx = {}\n",
    "for r in R:\n",
    "    for f in F:\n",
    "        RF2Idx[r, f] = idx\n",
    "        Idx.append(idx)\n",
    "        idx += 1\n",
    "\n",
    "\n",
    "print(RF2Idx)\n",
    "\n",
    "G_list = []\n",
    "h_list = []\n",
    "var_vec = [0.0] * len(Idx)\n",
    "\n",
    "for r in R:\n",
    "    for f in F:\n",
    "        idx = RF2Idx[r, f]\n",
    "        G_row = var_vec[:]\n",
    "        G_row[idx] = -1\n",
    "        G_list.append(G_row)\n",
    "        h_list.append(0)\n",
    "\n",
    "for r in R:\n",
    "    for f in F:\n",
    "        idx = RF2Idx[r, f]\n",
    "        G_row = var_vec[:]\n",
    "        G_row[idx] = 1\n",
    "        G_list.append(G_row)\n",
    "        h_list.append(1)\n",
    "\n",
    "for r in R[:-1]:\n",
    "    for f in F:\n",
    "        idx1 = RF2Idx[r, f]\n",
    "        idx2 = RF2Idx[r+1, f]\n",
    "        G_row = var_vec[:]\n",
    "        G_row[idx1] = -1\n",
    "        G_row[idx2] = 1\n",
    "        G_list.append(G_row)\n",
    "        h_list.append(0)\n",
    "\n",
    "for r in R:\n",
    "    for f in F[:-1]:\n",
    "        idx1 = RF2Idx[r, f]\n",
    "        idx2 = RF2Idx[r, f+1]\n",
    "        G_row = var_vec[:]\n",
    "        G_row[idx1] = 1\n",
    "        G_row[idx2] = -1\n",
    "        G_list.append(G_row)\n",
    "        h_list.append(0)\n",
    "\n",
    "P_list = []\n",
    "q_list = []\n",
    "for r in R:\n",
    "    for f in F:\n",
    "        idx = RF2Idx[r, f]\n",
    "        N = RF2N[r, f]\n",
    "        prob = RF2Prob[r, f]\n",
    "        P_row = var_vec[:]\n",
    "        P_row[idx] = 2 * N\n",
    "        P_list.append(P_row)\n",
    "        q_list.append(-2 * N * prob)"
   ]
  },
  {
   "cell_type": "code",
   "execution_count": 93,
   "metadata": {},
   "outputs": [],
   "source": [
    "import cvxopt"
   ]
  },
  {
   "cell_type": "code",
   "execution_count": 94,
   "metadata": {},
   "outputs": [
    {
     "name": "stdout",
     "output_type": "stream",
     "text": [
      "     pcost       dcost       gap    pres   dres\n",
      " 0: -6.9036e+01 -1.2333e+02  4e+02  2e+00  1e-02\n",
      " 1: -6.8921e+01 -8.7883e+01  3e+01  5e-02  3e-04\n",
      " 2: -6.8908e+01 -7.6998e+01  1e+01  2e-02  9e-05\n",
      " 3: -6.8653e+01 -7.1275e+01  3e+00  2e-03  1e-05\n",
      " 4: -6.8718e+01 -6.9029e+01  3e-01  2e-04  1e-06\n",
      " 5: -6.8733e+01 -6.8753e+01  2e-02  1e-05  6e-08\n",
      " 6: -6.8734e+01 -6.8735e+01  5e-04  2e-07  1e-09\n",
      " 7: -6.8735e+01 -6.8735e+01  9e-06  2e-09  1e-11\n",
      "Optimal solution found.\n"
     ]
    }
   ],
   "source": [
    "G = cvxopt.matrix(np.array(G_list), tc=\"d\")\n",
    "h = cvxopt.matrix(np.array(h_list), tc=\"d\")\n",
    "P = cvxopt.matrix(np.array(P_list), tc=\"d\")\n",
    "q = cvxopt.matrix(np.array(q_list), tc=\"d\")\n",
    "\n",
    "sol = cvxopt.solvers.qp(P, q, G, h)"
   ]
  },
  {
   "cell_type": "code",
   "execution_count": 98,
   "metadata": {},
   "outputs": [],
   "source": [
    "RF2PredProb = {}\n",
    "x = sol['x']\n",
    "for r in R:\n",
    "    for f in F:\n",
    "        idx = RF2Idx[r, f]\n",
    "        pred_prob = x[idx]\n",
    "        RF2PredProb[r, f] = pred_prob\n",
    "\n",
    "rf_df[\"pred_prob\"] = rf_df.apply(lambda x: RF2PredProb[x[\"rcen\"], x[\"freq\"]], axis=1)"
   ]
  },
  {
   "cell_type": "code",
   "execution_count": 99,
   "metadata": {},
   "outputs": [
    {
     "data": {
      "text/html": [
       "<div>\n",
       "<style scoped>\n",
       "    .dataframe tbody tr th:only-of-type {\n",
       "        vertical-align: middle;\n",
       "    }\n",
       "\n",
       "    .dataframe tbody tr th {\n",
       "        vertical-align: top;\n",
       "    }\n",
       "\n",
       "    .dataframe thead th {\n",
       "        text-align: right;\n",
       "    }\n",
       "</style>\n",
       "<table border=\"1\" class=\"dataframe\">\n",
       "  <thead>\n",
       "    <tr style=\"text-align: right;\">\n",
       "      <th></th>\n",
       "      <th>rcen</th>\n",
       "      <th>freq</th>\n",
       "      <th>N</th>\n",
       "      <th>pv</th>\n",
       "      <th>prob</th>\n",
       "      <th>pred_prob</th>\n",
       "    </tr>\n",
       "  </thead>\n",
       "  <tbody>\n",
       "    <tr>\n",
       "      <th>0</th>\n",
       "      <td>1</td>\n",
       "      <td>1</td>\n",
       "      <td>19602</td>\n",
       "      <td>245</td>\n",
       "      <td>0.012499</td>\n",
       "      <td>0.012499</td>\n",
       "    </tr>\n",
       "    <tr>\n",
       "      <th>1</th>\n",
       "      <td>1</td>\n",
       "      <td>2</td>\n",
       "      <td>3323</td>\n",
       "      <td>132</td>\n",
       "      <td>0.039723</td>\n",
       "      <td>0.039723</td>\n",
       "    </tr>\n",
       "    <tr>\n",
       "      <th>2</th>\n",
       "      <td>1</td>\n",
       "      <td>3</td>\n",
       "      <td>1120</td>\n",
       "      <td>81</td>\n",
       "      <td>0.072321</td>\n",
       "      <td>0.070524</td>\n",
       "    </tr>\n",
       "    <tr>\n",
       "      <th>3</th>\n",
       "      <td>1</td>\n",
       "      <td>4</td>\n",
       "      <td>539</td>\n",
       "      <td>36</td>\n",
       "      <td>0.066790</td>\n",
       "      <td>0.070524</td>\n",
       "    </tr>\n",
       "    <tr>\n",
       "      <th>4</th>\n",
       "      <td>1</td>\n",
       "      <td>5</td>\n",
       "      <td>285</td>\n",
       "      <td>36</td>\n",
       "      <td>0.126316</td>\n",
       "      <td>0.121212</td>\n",
       "    </tr>\n",
       "  </tbody>\n",
       "</table>\n",
       "</div>"
      ],
      "text/plain": [
       "   rcen  freq      N   pv      prob  pred_prob\n",
       "0     1     1  19602  245  0.012499   0.012499\n",
       "1     1     2   3323  132  0.039723   0.039723\n",
       "2     1     3   1120   81  0.072321   0.070524\n",
       "3     1     4    539   36  0.066790   0.070524\n",
       "4     1     5    285   36  0.126316   0.121212"
      ]
     },
     "execution_count": 99,
     "metadata": {},
     "output_type": "execute_result"
    }
   ],
   "source": [
    "rf_df.head()"
   ]
  },
  {
   "cell_type": "code",
   "execution_count": null,
   "metadata": {},
   "outputs": [],
   "source": []
  }
 ],
 "metadata": {
  "kernelspec": {
   "display_name": "Python 3",
   "language": "python",
   "name": "python3"
  },
  "language_info": {
   "codemirror_mode": {
    "name": "ipython",
    "version": 3
   },
   "file_extension": ".py",
   "mimetype": "text/x-python",
   "name": "python",
   "nbconvert_exporter": "python",
   "pygments_lexer": "ipython3",
   "version": "3.11.4"
  }
 },
 "nbformat": 4,
 "nbformat_minor": 2
}
